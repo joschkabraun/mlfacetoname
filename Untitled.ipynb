{
 "cells": [
  {
   "cell_type": "code",
   "execution_count": 1,
   "metadata": {},
   "outputs": [],
   "source": [
    "from __future__ import absolute_import\n",
    "from __future__ import division\n",
    "from __future__ import print_function\n",
    "\n",
    "import matplotlib.pyplot as plt\n",
    "import numpy as np\n",
    "import tensorflow as tf\n",
    "\n",
    "import tensorflow_datasets as tfds\n"
   ]
  },
  {
   "cell_type": "code",
   "execution_count": 22,
   "metadata": {},
   "outputs": [
    {
     "name": "stderr",
     "output_type": "stream",
     "text": [
      "WARNING:absl:Warning: Setting shuffle_files=True because split=TRAIN and shuffle_files=None. This behavior will be deprecated on 2019-08-06, at which point shuffle_files=False will be the default for all splits.\n"
     ]
    }
   ],
   "source": [
    "lfw = tfds.load(\"lfw:0.1.0\", split='train')\n",
    "lfw_info = tfds.builder('lfw').info"
   ]
  },
  {
   "cell_type": "code",
   "execution_count": 25,
   "metadata": {},
   "outputs": [
    {
     "name": "stdout",
     "output_type": "stream",
     "text": [
      "tfds.core.DatasetInfo(\n",
      "    name='lfw',\n",
      "    version=0.1.0,\n",
      "    description='Labeled Faces in the Wild:\n",
      "        A Database for Studying Face Recognition in\n",
      "        Unconstrained Environments',\n",
      "    urls=['http://vis-www.cs.umass.edu/lfw'],\n",
      "    features=FeaturesDict({\n",
      "        'image': Image(shape=(250, 250, 3), dtype=tf.uint8),\n",
      "        'label': Text(shape=(), dtype=tf.string),\n",
      "    }),\n",
      "    total_num_examples=13233,\n",
      "    splits={\n",
      "        'train': 13233,\n",
      "    },\n",
      "    supervised_keys=('label', 'image'),\n",
      "    citation=\"\"\"@TechReport{LFWTech,\n",
      "        author = {Gary B. Huang and Manu Ramesh and Tamara Berg and Erik Learned-Miller},\n",
      "        title = {Labeled Faces in the Wild: A Database for Studying Face Recognition in Unconstrained Environments},\n",
      "        institution = {University of Massachusetts, Amherst},\n",
      "        year = 2007,\n",
      "        number = {07-49},\n",
      "        month = {October}\n",
      "    }\"\"\",\n",
      "    redistribution_info=,\n",
      ")\n",
      "\n"
     ]
    }
   ],
   "source": [
    "print(lfw_info)"
   ]
  },
  {
   "cell_type": "code",
   "execution_count": 13,
   "metadata": {},
   "outputs": [],
   "source": [
    "assert isinstance(lfw_train, tf.data.Dataset)"
   ]
  },
  {
   "cell_type": "code",
   "execution_count": 24,
   "metadata": {},
   "outputs": [
    {
     "name": "stdout",
     "output_type": "stream",
     "text": [
      "tf.Tensor(-2, shape=(), dtype=int64)\n"
     ]
    }
   ],
   "source": [
    "print(tf.data.experimental.cardinality(lfw))"
   ]
  },
  {
   "cell_type": "code",
   "execution_count": null,
   "metadata": {},
   "outputs": [],
   "source": []
  }
 ],
 "metadata": {
  "kernelspec": {
   "display_name": "Python 3",
   "language": "python",
   "name": "python3"
  },
  "language_info": {
   "codemirror_mode": {
    "name": "ipython",
    "version": 3
   },
   "file_extension": ".py",
   "mimetype": "text/x-python",
   "name": "python",
   "nbconvert_exporter": "python",
   "pygments_lexer": "ipython3",
   "version": "3.7.2"
  }
 },
 "nbformat": 4,
 "nbformat_minor": 2
}
